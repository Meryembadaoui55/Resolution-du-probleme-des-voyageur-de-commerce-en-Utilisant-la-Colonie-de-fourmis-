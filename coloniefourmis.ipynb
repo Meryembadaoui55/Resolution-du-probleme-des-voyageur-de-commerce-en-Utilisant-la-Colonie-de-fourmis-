{
  "nbformat": 4,
  "nbformat_minor": 0,
  "metadata": {
    "colab": {
      "provenance": []
    },
    "kernelspec": {
      "name": "python3",
      "display_name": "Python 3"
    },
    "language_info": {
      "name": "python"
    }
  },
  "cells": [
    {
      "cell_type": "code",
      "execution_count": 12,
      "metadata": {
        "id": "MxSyxHU9Xb-O"
      },
      "outputs": [],
      "source": [
        "import random\n",
        "from typing import Dict, List\n",
        "\n",
        "def calcul_distance(city: int, next_city: int, cities: Dict[int, Dict[int, float]]) -> float:\n",
        "#Calcul la distance entre deux villes dans un graphe donné\"\"\"\n",
        "#city : l'indice de la ville de départ\n",
        "#nest_city : l'indice de la ville de destination\n",
        "#cities : un dictionnaire qui représente le graphe, avec les villes en tant que clés et les distances entre les villes en tant que valeurs\n",
        "    return cities[city][next_city]\n"
      ]
    },
    {
      "cell_type": "code",
      "source": [
        "def calculate_probability(city: int, actual_city: int, cities: Dict[int, Dict[int, float]], alpha: float, beta: float) -> float:\n",
        "    \"\"\"Calcul la probabilité de se déplacer d'une ville à une autre dans le graphe, en fonction des valeurs de alpha et beta\"\"\"\n",
        "    return (cities[actual_city][city] ** alpha) / (calcul_distance(actual_city, city, cities) ** beta)\n"
      ],
      "metadata": {
        "id": "KReKRexRXsNu"
      },
      "execution_count": 13,
      "outputs": []
    },
    {
      "cell_type": "code",
      "source": [
        "def choose_destination(availaible_city: List[int], actual_city: int, cities: Dict[int, Dict[int, float]], alpha: float, beta: float) -> int:\n",
        "#Sélectionne aléatoirement la prochaine ville à laquelle se déplacer, en fonction des probabilités calculées\"\"\"\n",
        "#availaible_city : une liste des indices des villes disponibles pour se déplacer\n",
        "#actual_city : l'indice de la ville actuelle\n",
        "#cities : un dictionnaire qui représente le graphe, avec les villes en tant que clés et les distances entre les villes en tant que valeurs\n",
        "#alpha : un paramètre de l'algorithme qui permet de pondérer l'importance de la quantité de phéromones sur la probabilité de choisir une ville\n",
        "#beta : un paramètre de l'algorithme qui permet de pondérer l'importance de la distance sur la probabilité de choisir une ville\n",
        "\n",
        "    probabilites = [calculate_probability(v, actual_city, cities, alpha, beta) for v in availaible_city]\n",
        "    return random.choices(availaible_city, probabilites)[0]\n"
      ],
      "metadata": {
        "id": "tM_9O4LwjjZw"
      },
      "execution_count": 15,
      "outputs": []
    },
    {
      "cell_type": "code",
      "source": [
        "def maj_feromones(cities: Dict[int, Dict[int, float]], epsilon: float, Q: float, distance: float) -> None:\n",
        "#Met à jour les feromones dans le graphe, en utilisant une valeur donnée de epsilon, Q et la distance totale du circuit actuel\"\"\"\n",
        "#cities : un dictionnaire qui représente le graphe, avec les villes en tant que clés et les distances entre les villes en tant que valeurs\n",
        "#epsilon : un paramètre de l'algorithme qui permet de définir le taux d'évaporation des phéromones\n",
        "#Q : un paramètre de l'algorithme qui permet de définir la quantité de phéromones déposée sur le chemin optimal\n",
        "#distance : la distance totale du circuit actuel\n",
        "    for i, j in cities.items():\n",
        "        for k, l in j.items():\n",
        "            cities[i][k] = (1 - epsilon) * l + epsilon * (Q / distance)\n"
      ],
      "metadata": {
        "id": "kmTxrpRpjjb6"
      },
      "execution_count": 16,
      "outputs": []
    },
    {
      "cell_type": "code",
      "source": [
        "def iterate(cities: Dict[int, Dict[int, float]], alpha: float, beta: float, epsilon: float, Q: float, K: int) -> List[List[int]]:\n",
        "#Génère itérativement un circuit en sélectionnant aléatoirement la prochaine ville à laquelle se déplacer, en mettant à jour le graphe, et en enregistrant le circuit.\n",
        "    circuits = []\n",
        "    for k in range(K):\n",
        "        #Pour chaque itération, elle définit la ville actuelle comme la première ville du graphe et crée une liste de villes visitées qui contient uniquement cette ville.\n",
        "        actual_city = list(cities.keys())[0]\n",
        "        visited_cities = [actual_city]\n",
        "        #Elle crée également une liste de villes disponibles qui contient toutes les autres villes du graphe.\n",
        "        available_city = list(cities.keys())[1:]\n",
        "        while len(available_city) > 0:\n",
        "            next_city = choose_destination(available_city, actual_city, cities, alpha, beta)\n",
        "            available_city.remove(next_city)\n",
        "            visited_cities.append(next_city)\n",
        "            actual_city = next_city\n",
        "#Une fois que toutes les villes ont été visitées, la fonction ajoute la première ville (ville de départ) à la liste de villes visitées pour fermer le circuit.\n",
        "#Elle utilise la fonction \"calcul_distance\" pour calculer la distance totale du circuit et la fonction \"maj_feromones\" pour mettre à jour les feromones dans le graphe.\n",
        "        visited_cities.append(visited_cities[0])\n",
        "\n",
        "        distance = sum(calcul_distance(visited_cities[i], visited_cities[i+1], cities) for i in range(len(visited_cities)-1))\n",
        "        maj_feromones(cities, epsilon, Q, distance)\n",
        "\n",
        "        circuits.append(visited_cities)\n",
        "    return circuits\n"
      ],
      "metadata": {
        "id": "dK4WbMkjjjfa"
      },
      "execution_count": 23,
      "outputs": []
    },
    {
      "cell_type": "code",
      "source": [
        "def solve(cities: Dict[int, Dict[int, float]], alpha: float, beta: float, epsilon: float, Q: float, tmax: int, K: int) -> List[List[int]]:\n",
        "#Résout le problème en utilisant les fonctions ci-dessus, en utilisant les paramètres donnés, et retourne les circuits générés.\"\"\"\n",
        "#cities : un dictionnaire qui représente le graphe, avec les villes en tant que clés et les distances entre les villes en tant que valeurs\n",
        "#alpha : un paramètre de l'algorithme qui permet de pondérer l'importance de la quantité de phéromones sur la probabilité de choisir une ville\n",
        "#beta : un paramètre de l'algorithme qui permet de pondérer l'importance de la distance sur la probabilité de choisir une ville\n",
        "#epsilon : un paramètre de l'algorithme qui permet de définir le taux d'évaporation des phéromones\n",
        "#Q : un paramètre de l'algorithme qui permet de définir la quantité de phéromones déposée sur le chemin optimal       \n",
        "#tmax : le nombre d'itérations maximales de l'algorithme\n",
        "#K : le nombre d'itérations de l'algorithme\n",
        "    random.seed()\n",
        "    for t in range(tmax):\n",
        "        iterate(cities, alpha, beta, epsilon, Q, K)\n",
        "    return iterate(cities, alpha, beta, epsilon, Q, K)\n"
      ],
      "metadata": {
        "id": "HpSNP_q9kMhq"
      },
      "execution_count": 24,
      "outputs": []
    },
    {
      "cell_type": "code",
      "source": [
        "# Définir les données sous forme de graphe\n",
        "#0 indique le numero de la ville par exemple je vais affecter le 0 a Rabat \n",
        "#1 indique le numero de la ville par exemple je vais affecter le 1 a Casa\n",
        "# 2 indique le numero de la ville par exemple je vais affecter le 2  fes\n",
        "# 3 indique le numero de la ville par exemple je vais affecter le 3  tanger\n",
        "cities = {\n",
        "    0: {1: 88, 2: 200, 3: 247},\n",
        "    1: {0: 88, 2: 296, 3: 340},\n",
        "    2: {0: 200, 1: 296, 3: 400},\n",
        "    3: {0: 247, 1: 340, 2: 400},\n",
        "}\n",
        "\n",
        "# Définir les paramètres de l'algorithme\n",
        "alpha = 1\n",
        "beta = 2\n",
        "epsilon = 0.1\n",
        "Q = 1\n",
        "tmax = 1\n",
        "K = 3\n",
        "# je vais choisir 5 iterations \n",
        "# Appeler la fonction pour résoudre le problème\n",
        "path = solve(cities, alpha, beta, epsilon, Q, tmax, K)\n",
        "\n",
        "# Afficher le résultat\n",
        "print(\"path\",path)\n"
      ],
      "metadata": {
        "colab": {
          "base_uri": "https://localhost:8080/"
        },
        "id": "7lDtSiGxkNIM",
        "outputId": "c3b94d40-05f7-4ed9-caa7-9650bbd59f68"
      },
      "execution_count": 25,
      "outputs": [
        {
          "output_type": "stream",
          "name": "stdout",
          "text": [
            "path [[0, 2, 3, 1, 0], [0, 2, 1, 3, 0], [0, 1, 3, 2, 0]]\n"
          ]
        }
      ]
    },
    {
      "cell_type": "code",
      "source": [],
      "metadata": {
        "id": "SvgF5jKgkPka"
      },
      "execution_count": null,
      "outputs": []
    }
  ]
}